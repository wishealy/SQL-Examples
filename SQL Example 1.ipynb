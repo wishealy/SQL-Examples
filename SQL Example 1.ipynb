{
    "cells": [
        {
            "cell_type": "code",
            "execution_count": 1,
            "metadata": {},
            "outputs": [
                {
                    "ename": "SyntaxError",
                    "evalue": "invalid syntax (<ipython-input-1-621f42b2cdd6>, line 1)",
                    "output_type": "error",
                    "traceback": [
                        "\u001b[0;36m  File \u001b[0;32m\"<ipython-input-1-621f42b2cdd6>\"\u001b[0;36m, line \u001b[0;32m1\u001b[0m\n\u001b[0;31m    DROP TABLE INSTRUCTORS;\u001b[0m\n\u001b[0m             ^\u001b[0m\n\u001b[0;31mSyntaxError\u001b[0m\u001b[0;31m:\u001b[0m invalid syntax\n"
                    ]
                }
            ],
            "source": "DROP TABLE INSTRUCTORS;\ncreate table INSTRUCTORS (\n\tins_ID int not null,\n\tlastname VARCHAR (60),\n\tfirstname VARCHAR (60),\n\tcity VARCHAR (60),\n\tcountry char(2),\n\tprimary key (ins_ID)\n\t);\nINSERT INTO INSTRUCTORS \n\t(ins_ID, lastname, firstname, city, country)\n\tVALUES\n\t('1', 'Ahuja', 'Rav', 'Toronto', 'CA');\nINSERT INTO INSTRUCTORS\n\tVALUES\n\t('2','Chong','Raul','Toronto','CA'),\n\t('3','Vasudevan','Hima','Chicago','US');\nSELECT * FROM INSTRUCTORS;\nSELECT firstname, lastname, country FROM INSTRUCTORS WHERE city='Toronto';\nUPDATE INSTRUCTORS SET city='Markham' WHERE firstname='Rav';\nDELETE FROM INSTRUCTORS WHERE firstname='Raul';\nSELECT * FROM INSTRUCTORS;\t"
        },
        {
            "cell_type": "code",
            "execution_count": null,
            "metadata": {},
            "outputs": [],
            "source": ""
        }
    ],
    "metadata": {
        "kernelspec": {
            "display_name": "Python 3.6",
            "language": "python",
            "name": "python3"
        },
        "language_info": {
            "codemirror_mode": {
                "name": "ipython",
                "version": 3
            },
            "file_extension": ".py",
            "mimetype": "text/x-python",
            "name": "python",
            "nbconvert_exporter": "python",
            "pygments_lexer": "ipython3",
            "version": "3.6.9"
        }
    },
    "nbformat": 4,
    "nbformat_minor": 1
}